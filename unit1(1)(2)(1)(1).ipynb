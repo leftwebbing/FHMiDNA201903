{
 "cells": [
  {
   "cell_type": "markdown",
   "metadata": {},
   "source": [
    "# function for Hidden Messages in the Replication Origin"
   ]
  },
  {
   "cell_type": "code",
   "execution_count": 1,
   "metadata": {},
   "outputs": [],
   "source": [
    "# pseudocode for function \n",
    "\n",
    "# PatternCount(Text,Pattern)    \n",
    "# count ← 0    \n",
    "# for i ← 0 to |Text| - |Pattern|      \n",
    "# if Text(i,|Pattern|) = Pattern            \n",
    "# count ← count + 1    \n",
    "# return count \n",
    "\n",
    "def PatternCount(inText, pattern):\n",
    "    count = 0 # initialize couter at 0 \n",
    "    for i in range(len(inText)- len(pattern ) +1):\n",
    "        if inText[i:i+len(pattern )] == pattern: \n",
    "            count += 1  # increment count \n",
    "    return count \n",
    "\n"
   ]
  },
  {
   "cell_type": "code",
   "execution_count": 2,
   "metadata": {},
   "outputs": [
    {
     "name": "stdout",
     "output_type": "stream",
     "text": [
      "test1 \n",
      " 2\n",
      "test2 \n",
      " 3\n",
      "test3 \n",
      " 4\n",
      "work question \n",
      " 25\n"
     ]
    }
   ],
   "source": [
    "moo = \"GCGCG\" \n",
    "test= \"GCG\" \n",
    "\n",
    "print( \"test1 \\n\",  PatternCount(moo, test))\n",
    "\n",
    "\n",
    "moo = \"ACGTACGTACGT\" \n",
    "test= \"CG\" \n",
    "\n",
    "print( \"test2 \\n\",  PatternCount(moo, test))\n",
    "\n",
    "moo = \"AAAGAGTGTCTGATAGCAGCTTCTGAACTGGTTACCTGCCGTGAGTAAATTAAATTTTATTGACTTAGGTCACTAAATACTTTAACCAATATAGGCATAGCGCACAGACAGATAATAATTACAGAGTACACAACATCCAT\" \n",
    "test= \"AAA\" \n",
    "\n",
    "print( \"test3 \\n\",  PatternCount(moo, test))\n",
    "\n",
    "moo = \"GGGTCCTGGTTAATTGTACCCTGGTTAAGATGGTTAACCCCTACTGGTTAACTTACTTTGGTTAAATGGTTAAGTGGTTAATGATTGGTTAAACTGTGGTTAAAATTGGTTAAAATTGGTTAAATCTTGGTTAATCGTGGTTAAAGACTGGTTAATGGTTAATTGATGGTTAACTGGTTAATGGTTAATGGTTAACTGGTTAACGGTGGTTAATGGTTAACTGGTTAACTGGTTAATTGGTTAATGGTTAACTGGTTAAATTGGTTAATAGTGGTTAATCCGGGGGCTTTGGTTAAGGAGTGGTTAACCGGTGGTTAATGGTTAAATGGTTAATGGTTAATGGTTAACTGGTTAATGGTTAACTGGTTAATACTTCGCAAACATGCTTGGTTAATCTTTGGTTAATGGTTAACTGTGGTTAAGTGGTTAATGGTTAACCCCTGGTTAACTCGGAGTGCTGGTTAATGGTTAAACGTGGTTAAGGATGACTGGTTAACGGGATACAGACCTGGTTAAGAGAACTGGTTAAGCATGGGATGGTTAACTGGTTAATGGTTAATATATAATGGTTAACTTGGTTAACTGGTTAATGGTTAAATGGTTAATTGATGGTTAATTATTGCTGGGTGGTTAACCCTGGTTAACAGGGATGGTTAAGCGTGGTTAACATGGTTAAATGTGGTTAATGGTTAAGCTGAGACGTTGGTTAATGGTTAATCTGTTTGCTGGTTAATGGTTAAGCACCATTCGTGGTTAACACGTGGTTAATGGTTAATTGGTTAACCGTGGTTAACTGGTTAAGTGGTTAATACAGACCGTTGGTTAACTGGTTAACGCTGTTGGTTAATGGTTAATCTTTCGTTGGTTAATGGTTAACTGGTTAATGGTTAACTGGTTAATGGTTAAGGTTGCCGCCTGGTTAAAAAAATGGTTAATGGTTAATGGTTAACTGGTTAACTGGTTAA\" \n",
    "test= \"TGGTTAATG\" \n",
    "\n",
    "print( \"work question \\n\",  PatternCount(moo, test))"
   ]
  },
  {
   "cell_type": "code",
   "execution_count": 3,
   "metadata": {},
   "outputs": [],
   "source": [
    "# pseudocode for FrequentWords \n",
    "\n",
    "#     FrequentWords(Text, k)\n",
    "#         FrequentPatterns ← an empty set\n",
    "#         for i ← 0 to |Text| − k\n",
    "#             Pattern ← the k-mer Text(i, k)\n",
    "#             Count(i) ← PatternCount(Text, Pattern)\n",
    "#         maxCount ← maximum value in array Count\n",
    "#         for i ← 0 to |Text| − k\n",
    "#             if Count(i) = maxCount\n",
    "#                 add Text(i, k) to FrequentPatterns\n",
    "#         remove duplicates from FrequentPatterns\n",
    "#         return FrequentPatterns\n",
    "    \n",
    "\n",
    "def FrequentWords(Text =\"ACGTTGCATGTCGCATGATGCATGAGAGCT\", k = 4):\n",
    "    ''' generates array of hits for k-mers in input Text \n",
    "    input: Text = string of text, represents DNA sequence\n",
    "           k = length of string to search\n",
    "    output: array of counts for each\n",
    "    '''\n",
    "    FrequentPatterns = [] # initialize as empty set\n",
    "    Count = [0] * len(Text) # initialize as set of zeros \n",
    "    \n",
    "    for i in range(len(Text) - k+1):\n",
    "        Pattern = Text[i: i+k]   # the k-mer Text(i, k)\n",
    "        Count[i] = PatternCount(Text, Pattern) # recycle functionfrom above \n",
    "    maxCount = max(Count)  # maximum value in array Count\n",
    "    for i in range(len(Text) - k+1): # i ← 0 to |Text| − k\n",
    "        if Count[i] == maxCount:\n",
    "            FrequentPatterns.append(Text[i: i+k])\n",
    "            #add Text(i, k) to FrequentPatterns\n",
    "    #remove duplicates from FrequentPatterns\n",
    "    return set(FrequentPatterns)\n"
   ]
  },
  {
   "cell_type": "code",
   "execution_count": 4,
   "metadata": {},
   "outputs": [
    {
     "name": "stdout",
     "output_type": "stream",
     "text": [
      "test1 \n",
      " {'CATG', 'GCAT'}\n",
      "test2 \n",
      " {'ACGT'}\n",
      "test3 \n",
      " {'ACAGA', 'TAAAT'}\n",
      "work question \n",
      " {'TAATGGTTAA'}\n"
     ]
    }
   ],
   "source": [
    "# test FrequentWords \n",
    "\n",
    "moo = \"ACGTTGCATGTCGCATGATGCATGAGAGCT\" # example from lesson, expected output CATG GCAT\n",
    "test= 4 \n",
    "\n",
    "print( \"test1 \\n\",  FrequentWords(moo, test))\n",
    "\n",
    "\n",
    "moo = \"ACGTACGTACGT\" \n",
    "test= 4 \n",
    "\n",
    "print( \"test2 \\n\",  FrequentWords(moo, test))\n",
    "\n",
    "moo = \"AAAGAGTGTCTGATAGCAGCTTCTGAACTGGTTACCTGCCGTGAGTAAATTAAATTTTATTGACTTAGGTCACTAAATACTTTAACCAATATAGGCATAGCGCACAGACAGATAATAATTACAGAGTACACAACATCCAT\" \n",
    "test= 5 \n",
    "\n",
    "print( \"test3 \\n\",  FrequentWords(moo, test))\n",
    "\n",
    "moo = \"GGGTCCTGGTTAATTGTACCCTGGTTAAGATGGTTAACCCCTACTGGTTAACTTACTTTGGTTAAATGGTTAAGTGGTTAATGATTGGTTAAACTGTGGTTAAAATTGGTTAAAATTGGTTAAATCTTGGTTAATCGTGGTTAAAGACTGGTTAATGGTTAATTGATGGTTAACTGGTTAATGGTTAATGGTTAACTGGTTAACGGTGGTTAATGGTTAACTGGTTAACTGGTTAATTGGTTAATGGTTAACTGGTTAAATTGGTTAATAGTGGTTAATCCGGGGGCTTTGGTTAAGGAGTGGTTAACCGGTGGTTAATGGTTAAATGGTTAATGGTTAATGGTTAACTGGTTAATGGTTAACTGGTTAATACTTCGCAAACATGCTTGGTTAATCTTTGGTTAATGGTTAACTGTGGTTAAGTGGTTAATGGTTAACCCCTGGTTAACTCGGAGTGCTGGTTAATGGTTAAACGTGGTTAAGGATGACTGGTTAACGGGATACAGACCTGGTTAAGAGAACTGGTTAAGCATGGGATGGTTAACTGGTTAATGGTTAATATATAATGGTTAACTTGGTTAACTGGTTAATGGTTAAATGGTTAATTGATGGTTAATTATTGCTGGGTGGTTAACCCTGGTTAACAGGGATGGTTAAGCGTGGTTAACATGGTTAAATGTGGTTAATGGTTAAGCTGAGACGTTGGTTAATGGTTAATCTGTTTGCTGGTTAATGGTTAAGCACCATTCGTGGTTAACACGTGGTTAATGGTTAATTGGTTAACCGTGGTTAACTGGTTAAGTGGTTAATACAGACCGTTGGTTAACTGGTTAACGCTGTTGGTTAATGGTTAATCTTTCGTTGGTTAATGGTTAACTGGTTAATGGTTAACTGGTTAATGGTTAAGGTTGCCGCCTGGTTAAAAAAATGGTTAATGGTTAATGGTTAACTGGTTAACTGGTTAA\" \n",
    "test= 10 \n",
    "\n",
    "print( \"work question \\n\",  FrequentWords(moo, test))"
   ]
  },
  {
   "cell_type": "code",
   "execution_count": null,
   "metadata": {},
   "outputs": [],
   "source": [
    "def PatternToNumber(inString = 'GT'):\n",
    "    ''' given an input string, returns its alphabetical position in a list of k-mers of length k\n",
    "    input: inString = k-mer from implied set of k-mers\n",
    "    implicit in inString is length k of inString\n",
    "    \n",
    "    output: position, which represents alphabetical position of inString in complete set of k-mers for length k \n",
    "    \n",
    "    example PatternToNumber('GT') = 11\n",
    "    \n",
    "    \n",
    "    '''\n",
    "    # https://stackoverflow.com/questions/2267362/how-to-convert-an-integer-in-any-base-to-a-string#2267428\n",
    "    # answered Feb 23 '15 at 2:48, Salvador Dali\n",
    "    # \n",
    "    \n",
    "    def numberToBase(n, b):\n",
    "        if n == 0:\n",
    "            return [0]\n",
    "        digits = []\n",
    "        while n:\n",
    "            digits.append(int(n % b))\n",
    "            n //= b\n",
    "        return digits[::-1]\n",
    "\n",
    "    \n",
    "    # algorithm:    \n",
    "    # convert inString to base-4 number\n",
    "    # convert base-4 number to base-10 number\n",
    "    \n",
    "    # convert inString to base-4 number, replace each letter with number\n",
    "    \n",
    "    \n",
    "    return position \n",
    "\n"
   ]
  },
  {
   "cell_type": "code",
   "execution_count": 11,
   "metadata": {},
   "outputs": [
    {
     "name": "stdout",
     "output_type": "stream",
     "text": [
      "12410\n",
      "300322311300\n"
     ]
    }
   ],
   "source": [
    "one = \"1\"\n",
    "two = \"2\"\n",
    "foo = \"4\"\n",
    "\n",
    "print(int(one +two + foo + one + '0' ))\n",
    "\n",
    "line = 'TAATGGTCCTAA'\n",
    "line = line.replace('A', '0').replace('C', '1').replace('G', '2').replace('T', '3')\n",
    "\n",
    "print(line)\n"
   ]
  },
  {
   "cell_type": "code",
   "execution_count": null,
   "metadata": {},
   "outputs": [],
   "source": [
    "# ComputingFrequencies(Text, k)\n",
    "#     for i ← 0 to 4k − 1\n",
    "#         FrequencyArray(i) ← 0\n",
    "#     for i ← 0 to |Text| − k\n",
    "#         Pattern ← Text(i, k)\n",
    "#         j ← PatternToNumber(Pattern)\n",
    "#         FrequencyArray(j) ← FrequencyArray(j) + 1\n",
    "#     return FrequencyArray\n",
    "    \n",
    "def ComputingFrequencies(Text, k):\n",
    "    for i in range(4 *k - 1)\n",
    "        FrequencyArray(i) ← 0\n",
    "    for i in range(len(Text) - k) # ← 0 to |Text| − k\n",
    "        Pattern = Text[i, i+ k]  #Text(i, k)\n",
    "        j = PatternToNumber(Pattern)\n",
    "        FrequencyArray(j) = FrequencyArray(j) + 1 #FrequencyArray(j) + 1\n",
    "    return FrequencyArray\n",
    "\n",
    "\n",
    "\n"
   ]
  }
 ],
 "metadata": {
  "kernelspec": {
   "display_name": "Python 3",
   "language": "python",
   "name": "python3"
  },
  "language_info": {
   "codemirror_mode": {
    "name": "ipython",
    "version": 3
   },
   "file_extension": ".py",
   "mimetype": "text/x-python",
   "name": "python",
   "nbconvert_exporter": "python",
   "pygments_lexer": "ipython3",
   "version": "3.6.7"
  }
 },
 "nbformat": 4,
 "nbformat_minor": 2
}
