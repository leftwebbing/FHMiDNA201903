{
 "cells": [
  {
   "cell_type": "markdown",
   "metadata": {},
   "source": [
    "# function for Hidden Messages in the Replication Origin"
   ]
  },
  {
   "cell_type": "code",
   "execution_count": 7,
   "metadata": {},
   "outputs": [],
   "source": [
    "# pseudocode for function \n",
    "\n",
    "# PatternCount(Text,Pattern)    \n",
    "# count ← 0    \n",
    "# for i ← 0 to |Text| - |Pattern|      \n",
    "# if Text(i,|Pattern|) = Pattern            \n",
    "# count ← count + 1    \n",
    "# return count \n",
    "\n",
    "def PatternCount(inText, pattern):\n",
    "    count = 0 # initialize couter at 0 \n",
    "    for i in range(len(inText)- len(pattern ) +1):\n",
    "        if inText[i:i+len(pattern )] == pattern: \n",
    "            count += 1  # increment count \n",
    "    return count \n",
    "\n"
   ]
  },
  {
   "cell_type": "code",
   "execution_count": 11,
   "metadata": {},
   "outputs": [
    {
     "name": "stdout",
     "output_type": "stream",
     "text": [
      "test1 \n",
      " 2\n",
      "test2 \n",
      " 3\n",
      "test3 \n",
      " 4\n",
      "work question \n",
      " 25\n"
     ]
    }
   ],
   "source": [
    "moo = \"GCGCG\" \n",
    "test= \"GCG\" \n",
    "\n",
    "print( \"test1 \\n\",  PatternCount(moo, test))\n",
    "\n",
    "\n",
    "moo = \"ACGTACGTACGT\" \n",
    "test= \"CG\" \n",
    "\n",
    "print( \"test2 \\n\",  PatternCount(moo, test))\n",
    "\n",
    "moo = \"AAAGAGTGTCTGATAGCAGCTTCTGAACTGGTTACCTGCCGTGAGTAAATTAAATTTTATTGACTTAGGTCACTAAATACTTTAACCAATATAGGCATAGCGCACAGACAGATAATAATTACAGAGTACACAACATCCAT\" \n",
    "test= \"AAA\" \n",
    "\n",
    "print( \"test3 \\n\",  PatternCount(moo, test))\n",
    "\n",
    "moo = \"GGGTCCTGGTTAATTGTACCCTGGTTAAGATGGTTAACCCCTACTGGTTAACTTACTTTGGTTAAATGGTTAAGTGGTTAATGATTGGTTAAACTGTGGTTAAAATTGGTTAAAATTGGTTAAATCTTGGTTAATCGTGGTTAAAGACTGGTTAATGGTTAATTGATGGTTAACTGGTTAATGGTTAATGGTTAACTGGTTAACGGTGGTTAATGGTTAACTGGTTAACTGGTTAATTGGTTAATGGTTAACTGGTTAAATTGGTTAATAGTGGTTAATCCGGGGGCTTTGGTTAAGGAGTGGTTAACCGGTGGTTAATGGTTAAATGGTTAATGGTTAATGGTTAACTGGTTAATGGTTAACTGGTTAATACTTCGCAAACATGCTTGGTTAATCTTTGGTTAATGGTTAACTGTGGTTAAGTGGTTAATGGTTAACCCCTGGTTAACTCGGAGTGCTGGTTAATGGTTAAACGTGGTTAAGGATGACTGGTTAACGGGATACAGACCTGGTTAAGAGAACTGGTTAAGCATGGGATGGTTAACTGGTTAATGGTTAATATATAATGGTTAACTTGGTTAACTGGTTAATGGTTAAATGGTTAATTGATGGTTAATTATTGCTGGGTGGTTAACCCTGGTTAACAGGGATGGTTAAGCGTGGTTAACATGGTTAAATGTGGTTAATGGTTAAGCTGAGACGTTGGTTAATGGTTAATCTGTTTGCTGGTTAATGGTTAAGCACCATTCGTGGTTAACACGTGGTTAATGGTTAATTGGTTAACCGTGGTTAACTGGTTAAGTGGTTAATACAGACCGTTGGTTAACTGGTTAACGCTGTTGGTTAATGGTTAATCTTTCGTTGGTTAATGGTTAACTGGTTAATGGTTAACTGGTTAATGGTTAAGGTTGCCGCCTGGTTAAAAAAATGGTTAATGGTTAATGGTTAACTGGTTAACTGGTTAA\" \n",
    "test= \"TGGTTAATG\" \n",
    "\n",
    "print( \"work question \\n\",  PatternCount(moo, test))"
   ]
  },
  {
   "cell_type": "code",
   "execution_count": 2,
   "metadata": {},
   "outputs": [
    {
     "ename": "IndentationError",
     "evalue": "unindent does not match any outer indentation level (<tokenize>, line 25)",
     "output_type": "error",
     "traceback": [
      "\u001b[0;36m  File \u001b[0;32m\"<tokenize>\"\u001b[0;36m, line \u001b[0;32m25\u001b[0m\n\u001b[0;31m    maxCount ← maximum value in array Count\u001b[0m\n\u001b[0m    ^\u001b[0m\n\u001b[0;31mIndentationError\u001b[0m\u001b[0;31m:\u001b[0m unindent does not match any outer indentation level\n"
     ]
    }
   ],
   "source": [
    "# pseudocode for FrequentWords \n",
    "\n",
    "#     FrequentWords(Text, k)\n",
    "#         FrequentPatterns ← an empty set\n",
    "#         for i ← 0 to |Text| − k\n",
    "#             Pattern ← the k-mer Text(i, k)\n",
    "#             Count(i) ← PatternCount(Text, Pattern)\n",
    "#         maxCount ← maximum value in array Count\n",
    "#         for i ← 0 to |Text| − k\n",
    "#             if Count(i) = maxCount\n",
    "#                 add Text(i, k) to FrequentPatterns\n",
    "#         remove duplicates from FrequentPatterns\n",
    "#         return FrequentPatterns\n",
    "    \n",
    "\n",
    "def FrequentWords(Text =\"\", k = 3):\n",
    "    ''' generates array of hits for k-mers in input Text \n",
    "    input: Text = string of text, represents DNA sequence\n",
    "           k = length of string to search\n",
    "    output: array of counts for each\n",
    "    '''\n",
    "    FrequentPatterns = [] # initialize as empty set\n",
    "    for i in range(len(Text) − k):\n",
    "        Pattern = Text[i: i+k]   # the k-mer Text(i, k)\n",
    "        Count(i) = PatternCount(Text, Pattern) # recycle functionfrom above \n",
    "    maxCount = max(Count)  # maximum value in array Count\n",
    "    for i in range(len(Text) − k): # i ← 0 to |Text| − k\n",
    "        if Count[i] == maxCount\n",
    "            FrequentPatterns.append(Text[i: i+k])\n",
    "            #add Text(i, k) to FrequentPatterns\n",
    "    #remove duplicates from FrequentPatterns\n",
    "    return FrequentPatterns\n"
   ]
  },
  {
   "cell_type": "code",
   "execution_count": null,
   "metadata": {},
   "outputs": [],
   "source": [
    "# test FrequentWords \n",
    "\n",
    "moo = \"GCGCG\" \n",
    "test= 4 \n",
    "\n",
    "print( \"test1 \\n\",  FrequentWords(moo, test))\n",
    "\n",
    "\n",
    "moo = \"ACGTACGTACGT\" \n",
    "test= 4 \n",
    "\n",
    "print( \"test2 \\n\",  FrequentWords(moo, test))\n",
    "\n",
    "moo = \"AAAGAGTGTCTGATAGCAGCTTCTGAACTGGTTACCTGCCGTGAGTAAATTAAATTTTATTGACTTAGGTCACTAAATACTTTAACCAATATAGGCATAGCGCACAGACAGATAATAATTACAGAGTACACAACATCCAT\" \n",
    "test= 5 \n",
    "\n",
    "print( \"test3 \\n\",  FrequentWords(moo, test))\n",
    "\n",
    "moo = \"GGGTCCTGGTTAATTGTACCCTGGTTAAGATGGTTAACCCCTACTGGTTAACTTACTTTGGTTAAATGGTTAAGTGGTTAATGATTGGTTAAACTGTGGTTAAAATTGGTTAAAATTGGTTAAATCTTGGTTAATCGTGGTTAAAGACTGGTTAATGGTTAATTGATGGTTAACTGGTTAATGGTTAATGGTTAACTGGTTAACGGTGGTTAATGGTTAACTGGTTAACTGGTTAATTGGTTAATGGTTAACTGGTTAAATTGGTTAATAGTGGTTAATCCGGGGGCTTTGGTTAAGGAGTGGTTAACCGGTGGTTAATGGTTAAATGGTTAATGGTTAATGGTTAACTGGTTAATGGTTAACTGGTTAATACTTCGCAAACATGCTTGGTTAATCTTTGGTTAATGGTTAACTGTGGTTAAGTGGTTAATGGTTAACCCCTGGTTAACTCGGAGTGCTGGTTAATGGTTAAACGTGGTTAAGGATGACTGGTTAACGGGATACAGACCTGGTTAAGAGAACTGGTTAAGCATGGGATGGTTAACTGGTTAATGGTTAATATATAATGGTTAACTTGGTTAACTGGTTAATGGTTAAATGGTTAATTGATGGTTAATTATTGCTGGGTGGTTAACCCTGGTTAACAGGGATGGTTAAGCGTGGTTAACATGGTTAAATGTGGTTAATGGTTAAGCTGAGACGTTGGTTAATGGTTAATCTGTTTGCTGGTTAATGGTTAAGCACCATTCGTGGTTAACACGTGGTTAATGGTTAATTGGTTAACCGTGGTTAACTGGTTAAGTGGTTAATACAGACCGTTGGTTAACTGGTTAACGCTGTTGGTTAATGGTTAATCTTTCGTTGGTTAATGGTTAACTGGTTAATGGTTAACTGGTTAATGGTTAAGGTTGCCGCCTGGTTAAAAAAATGGTTAATGGTTAATGGTTAACTGGTTAACTGGTTAA\" \n",
    "test= 10 \n",
    "\n",
    "print( \"work question \\n\",  FrequentWords(moo, test))"
   ]
  }
 ],
 "metadata": {
  "kernelspec": {
   "display_name": "Python 3",
   "language": "python",
   "name": "python3"
  },
  "language_info": {
   "codemirror_mode": {
    "name": "ipython",
    "version": 3
   },
   "file_extension": ".py",
   "mimetype": "text/x-python",
   "name": "python",
   "nbconvert_exporter": "python",
   "pygments_lexer": "ipython3",
   "version": "3.6.7"
  }
 },
 "nbformat": 4,
 "nbformat_minor": 2
}
