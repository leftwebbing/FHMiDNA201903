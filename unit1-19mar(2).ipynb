{
 "cells": [
  {
   "cell_type": "markdown",
   "metadata": {},
   "source": [
    "# function for Hidden Messages in the Replication Origin"
   ]
  },
  {
   "cell_type": "code",
   "execution_count": 1,
   "metadata": {},
   "outputs": [],
   "source": [
    "# pseudocode for function \n",
    "\n",
    "# PatternCount(Text,Pattern)    \n",
    "# count ← 0    \n",
    "# for i ← 0 to |Text| - |Pattern|      \n",
    "# if Text(i,|Pattern|) = Pattern            \n",
    "# count ← count + 1    \n",
    "# return count \n",
    "\n",
    "def PatternCount(inText, pattern):\n",
    "    count = 0 # initialize couter at 0 \n",
    "    for i in range(len(inText)- len(pattern ) +1):\n",
    "        if inText[i:i+len(pattern )] == pattern: \n",
    "            count += 1  # increment count \n",
    "    return count \n",
    "\n"
   ]
  },
  {
   "cell_type": "code",
   "execution_count": 2,
   "metadata": {},
   "outputs": [
    {
     "name": "stdout",
     "output_type": "stream",
     "text": [
      "test1 \n",
      " 2\n",
      "test2 \n",
      " 3\n",
      "test3 \n",
      " 4\n",
      "work question \n",
      " 25\n"
     ]
    }
   ],
   "source": [
    "moo = \"GCGCG\" \n",
    "test= \"GCG\" \n",
    "\n",
    "print( \"test1 \\n\",  PatternCount(moo, test))\n",
    "\n",
    "\n",
    "moo = \"ACGTACGTACGT\" \n",
    "test= \"CG\" \n",
    "\n",
    "print( \"test2 \\n\",  PatternCount(moo, test))\n",
    "\n",
    "moo = \"AAAGAGTGTCTGATAGCAGCTTCTGAACTGGTTACCTGCCGTGAGTAAATTAAATTTTATTGACTTAGGTCACTAAATACTTTAACCAATATAGGCATAGCGCACAGACAGATAATAATTACAGAGTACACAACATCCAT\" \n",
    "test= \"AAA\" \n",
    "\n",
    "print( \"test3 \\n\",  PatternCount(moo, test))\n",
    "\n",
    "moo = \"GGGTCCTGGTTAATTGTACCCTGGTTAAGATGGTTAACCCCTACTGGTTAACTTACTTTGGTTAAATGGTTAAGTGGTTAATGATTGGTTAAACTGTGGTTAAAATTGGTTAAAATTGGTTAAATCTTGGTTAATCGTGGTTAAAGACTGGTTAATGGTTAATTGATGGTTAACTGGTTAATGGTTAATGGTTAACTGGTTAACGGTGGTTAATGGTTAACTGGTTAACTGGTTAATTGGTTAATGGTTAACTGGTTAAATTGGTTAATAGTGGTTAATCCGGGGGCTTTGGTTAAGGAGTGGTTAACCGGTGGTTAATGGTTAAATGGTTAATGGTTAATGGTTAACTGGTTAATGGTTAACTGGTTAATACTTCGCAAACATGCTTGGTTAATCTTTGGTTAATGGTTAACTGTGGTTAAGTGGTTAATGGTTAACCCCTGGTTAACTCGGAGTGCTGGTTAATGGTTAAACGTGGTTAAGGATGACTGGTTAACGGGATACAGACCTGGTTAAGAGAACTGGTTAAGCATGGGATGGTTAACTGGTTAATGGTTAATATATAATGGTTAACTTGGTTAACTGGTTAATGGTTAAATGGTTAATTGATGGTTAATTATTGCTGGGTGGTTAACCCTGGTTAACAGGGATGGTTAAGCGTGGTTAACATGGTTAAATGTGGTTAATGGTTAAGCTGAGACGTTGGTTAATGGTTAATCTGTTTGCTGGTTAATGGTTAAGCACCATTCGTGGTTAACACGTGGTTAATGGTTAATTGGTTAACCGTGGTTAACTGGTTAAGTGGTTAATACAGACCGTTGGTTAACTGGTTAACGCTGTTGGTTAATGGTTAATCTTTCGTTGGTTAATGGTTAACTGGTTAATGGTTAACTGGTTAATGGTTAAGGTTGCCGCCTGGTTAAAAAAATGGTTAATGGTTAATGGTTAACTGGTTAACTGGTTAA\" \n",
    "test= \"TGGTTAATG\" \n",
    "\n",
    "print( \"work question \\n\",  PatternCount(moo, test))"
   ]
  },
  {
   "cell_type": "code",
   "execution_count": 3,
   "metadata": {},
   "outputs": [],
   "source": [
    "# pseudocode for FrequentWords \n",
    "\n",
    "#     FrequentWords(Text, k)\n",
    "#         FrequentPatterns ← an empty set\n",
    "#         for i ← 0 to |Text| − k\n",
    "#             Pattern ← the k-mer Text(i, k)\n",
    "#             Count(i) ← PatternCount(Text, Pattern)\n",
    "#         maxCount ← maximum value in array Count\n",
    "#         for i ← 0 to |Text| − k\n",
    "#             if Count(i) = maxCount\n",
    "#                 add Text(i, k) to FrequentPatterns\n",
    "#         remove duplicates from FrequentPatterns\n",
    "#         return FrequentPatterns\n",
    "    \n",
    "\n",
    "def FrequentWords(Text =\"ACGTTGCATGTCGCATGATGCATGAGAGCT\", k = 4):\n",
    "    ''' generates array of hits for k-mers in input Text \n",
    "    input: Text = string of text, represents DNA sequence\n",
    "           k = length of string to search\n",
    "    output: array of counts for each\n",
    "    '''\n",
    "    FrequentPatterns = [] # initialize as empty set\n",
    "    Count = [0] * len(Text) # initialize as set of zeros \n",
    "    \n",
    "    for i in range(len(Text) - k+1):\n",
    "        Pattern = Text[i: i+k]   # the k-mer Text(i, k)\n",
    "        Count[i] = PatternCount(Text, Pattern) # recycle functionfrom above \n",
    "    maxCount = max(Count)  # maximum value in array Count\n",
    "    for i in range(len(Text) - k+1): # i ← 0 to |Text| − k\n",
    "        if Count[i] == maxCount:\n",
    "            FrequentPatterns.append(Text[i: i+k])\n",
    "            #add Text(i, k) to FrequentPatterns\n",
    "    #remove duplicates from FrequentPatterns\n",
    "    return set(FrequentPatterns)\n"
   ]
  },
  {
   "cell_type": "code",
   "execution_count": 4,
   "metadata": {},
   "outputs": [
    {
     "name": "stdout",
     "output_type": "stream",
     "text": [
      "test1 \n",
      " {'CATG', 'GCAT'}\n",
      "test2 \n",
      " {'ACGT'}\n",
      "test3 \n",
      " {'ACAGA', 'TAAAT'}\n",
      "work question \n",
      " {'TAATGGTTAA'}\n"
     ]
    }
   ],
   "source": [
    "# test FrequentWords \n",
    "\n",
    "moo = \"ACGTTGCATGTCGCATGATGCATGAGAGCT\" # example from lesson, expected output CATG GCAT\n",
    "test= 4 \n",
    "\n",
    "print( \"test1 \\n\",  FrequentWords(moo, test))\n",
    "\n",
    "\n",
    "moo = \"ACGTACGTACGT\" \n",
    "test= 4 \n",
    "\n",
    "print( \"test2 \\n\",  FrequentWords(moo, test))\n",
    "\n",
    "moo = \"AAAGAGTGTCTGATAGCAGCTTCTGAACTGGTTACCTGCCGTGAGTAAATTAAATTTTATTGACTTAGGTCACTAAATACTTTAACCAATATAGGCATAGCGCACAGACAGATAATAATTACAGAGTACACAACATCCAT\" \n",
    "test= 5 \n",
    "\n",
    "print( \"test3 \\n\",  FrequentWords(moo, test))\n",
    "\n",
    "moo = \"GGGTCCTGGTTAATTGTACCCTGGTTAAGATGGTTAACCCCTACTGGTTAACTTACTTTGGTTAAATGGTTAAGTGGTTAATGATTGGTTAAACTGTGGTTAAAATTGGTTAAAATTGGTTAAATCTTGGTTAATCGTGGTTAAAGACTGGTTAATGGTTAATTGATGGTTAACTGGTTAATGGTTAATGGTTAACTGGTTAACGGTGGTTAATGGTTAACTGGTTAACTGGTTAATTGGTTAATGGTTAACTGGTTAAATTGGTTAATAGTGGTTAATCCGGGGGCTTTGGTTAAGGAGTGGTTAACCGGTGGTTAATGGTTAAATGGTTAATGGTTAATGGTTAACTGGTTAATGGTTAACTGGTTAATACTTCGCAAACATGCTTGGTTAATCTTTGGTTAATGGTTAACTGTGGTTAAGTGGTTAATGGTTAACCCCTGGTTAACTCGGAGTGCTGGTTAATGGTTAAACGTGGTTAAGGATGACTGGTTAACGGGATACAGACCTGGTTAAGAGAACTGGTTAAGCATGGGATGGTTAACTGGTTAATGGTTAATATATAATGGTTAACTTGGTTAACTGGTTAATGGTTAAATGGTTAATTGATGGTTAATTATTGCTGGGTGGTTAACCCTGGTTAACAGGGATGGTTAAGCGTGGTTAACATGGTTAAATGTGGTTAATGGTTAAGCTGAGACGTTGGTTAATGGTTAATCTGTTTGCTGGTTAATGGTTAAGCACCATTCGTGGTTAACACGTGGTTAATGGTTAATTGGTTAACCGTGGTTAACTGGTTAAGTGGTTAATACAGACCGTTGGTTAACTGGTTAACGCTGTTGGTTAATGGTTAATCTTTCGTTGGTTAATGGTTAACTGGTTAATGGTTAACTGGTTAATGGTTAAGGTTGCCGCCTGGTTAAAAAAATGGTTAATGGTTAATGGTTAACTGGTTAACTGGTTAA\" \n",
    "test= 10 \n",
    "\n",
    "print( \"work question \\n\",  FrequentWords(moo, test))"
   ]
  },
  {
   "cell_type": "code",
   "execution_count": 27,
   "metadata": {},
   "outputs": [],
   "source": [
    "def PatternToNumber(inString = 'GT'):\n",
    "    ''' given an input string, returns its alphabetical position in a list of k-mers of length k\n",
    "    input: inString = k-mer from implied set of k-mers\n",
    "    implicit in inString is length k of inString\n",
    "    \n",
    "    output: position, which represents alphabetical position of inString in complete set of k-mers for length k \n",
    "    \n",
    "    example PatternToNumber('GT') = 11\n",
    "    \n",
    "    \n",
    "    '''\n",
    "    # https://stackoverflow.com/questions/2267362/how-to-convert-an-integer-in-any-base-to-a-string#2267428\n",
    "    # answered Feb 23 '15 at 2:48, Salvador Dali\n",
    "    # \n",
    "    \n",
    "    #def numberToBase(n, b):\n",
    "    #    if n == 0:\n",
    "    #        return [0]\n",
    "    #    digits = []\n",
    "    #    while n:\n",
    "    #        digits.append(int(n % b))\n",
    "    #        n //= b\n",
    "    #    return digits[::-1]\n",
    "\n",
    "    \n",
    "    # algorithm:    \n",
    "    # convert inString to base-4 number\n",
    "    asBase4 = inString.replace('A', '0').replace('C', '1').replace('G', '2').replace('T', '3') # replace each character with number\n",
    "    \n",
    "    # convert base-4 number to base-10 number\n",
    "    asBase10 = [(int(c) * (4**i) ) for i, c in enumerate(asBase4[::-1]) ] \n",
    "    \n",
    "    # convert inString to base-4 number, replace each letter with number\n",
    "    \n",
    "    \n",
    "    return sum(asBase10) \n",
    "\n"
   ]
  },
  {
   "cell_type": "code",
   "execution_count": 15,
   "metadata": {},
   "outputs": [
    {
     "name": "stdout",
     "output_type": "stream",
     "text": [
      "12410\n",
      "300322311300\n",
      "['3', '0', '0', '3', '2', '2', '3', '1', '1', '3', '0', '0']\n",
      "['0', '0', '3', '1', '1', '3', '2', '2', '3', '0', '0', '3']\n",
      "0 0 0\n",
      "1 0 0\n",
      "2 3 48\n",
      "3 1 64\n",
      "4 1 256\n",
      "5 3 3072\n",
      "6 2 8192\n",
      "7 2 32768\n",
      "8 3 196608\n",
      "9 0 0\n",
      "10 0 0\n",
      "11 3 12582912\n",
      "[0, 0, 48, 64, 256, 3072, 8192, 32768, 196608, 0, 0, 12582912]\n",
      "12823920\n"
     ]
    }
   ],
   "source": [
    "one = \"1\"\n",
    "two = \"2\"\n",
    "foo = \"4\"\n",
    "\n",
    "stringNumber = \"547753\"\n",
    "\n",
    "print(int(one +two + foo + one + '0' ))\n",
    "\n",
    "line = 'TAATGGTCCTAA'\n",
    "line = line.replace('A', '0').replace('C', '1').replace('G', '2').replace('T', '3')\n",
    "\n",
    "print(line)\n",
    "\n",
    "myBase4= [c.replace('C', '1').replace('G', '2').replace('T', '3') for c in line  ] \n",
    "\n",
    "print(myBase4)\n",
    "print(myBase4[::-1])  #reversed order \n",
    "\n",
    "for i, c in enumerate(myBase4[::-1]):\n",
    "    print(i,c, (int(c) * (4**i) )) \n",
    "\n",
    "myBase10 = [(int(c) * (4**i) ) for i, c in enumerate(myBase4[::-1]) ] \n",
    "\n",
    "print(myBase10)\n",
    "print(sum(myBase10))\n"
   ]
  },
  {
   "cell_type": "code",
   "execution_count": 41,
   "metadata": {},
   "outputs": [],
   "source": [
    "# ComputingFrequencies(Text, k)\n",
    "#     for i ← 0 to 4k − 1\n",
    "#         FrequencyArray(i) ← 0\n",
    "#     for i ← 0 to |Text| − k\n",
    "#         Pattern ← Text(i, k)\n",
    "#         j ← PatternToNumber(Pattern)\n",
    "#         FrequencyArray(j) ← FrequencyArray(j) + 1\n",
    "#     return FrequencyArray\n",
    "    \n",
    "def ComputingFrequencies(Text, k):\n",
    "    FrequencyArray = [0] * (4**k  -0 ) # initialize as set of zeros\n",
    "    for i in range(4**k - 1):  # for i ← 0 to 4k - 1 \n",
    "        FrequencyArray[i] = 0\n",
    "    for i in range(len(Text) - k): # ← 0 to |Text| - k\n",
    "        Pattern = Text[i: i+ k]  #Text(i, k)\n",
    "        j = PatternToNumber(Pattern)\n",
    "        FrequencyArray[j] += 1 #FrequencyArray(j) + 1\n",
    "    return FrequencyArray\n",
    "\n",
    "\n",
    "\n"
   ]
  },
  {
   "cell_type": "code",
   "execution_count": 42,
   "metadata": {},
   "outputs": [
    {
     "name": "stdout",
     "output_type": "stream",
     "text": [
      "[1, 1, 0, 0, 0, 0, 2, 2, 1, 2, 1, 0, 0, 1, 1, 0]\n"
     ]
    }
   ],
   "source": [
    "# test on known input\n",
    "\n",
    "quizText = 'ACGCGGCTCTGAAA'\n",
    "quizk = 2\n",
    "\n",
    "print(ComputingFrequencies(quizText, quizk) )\n",
    "\n",
    "#  Sample Output:\n",
    "\n",
    "# 2 1 0 0 0 0 2 2 1 2 1 0 0 1 1 0\n",
    "\n",
    "quizText ='ATGAGCCTTGCACCGCCTACTCCCCTATCTACTGGGAACAAGCAGAATAGAGTTGAGGTGGGTTAGAATCCTGCGAGAGCGGATATAGCCCATGCTCCATATGCCTCTCCGCCCAGAGCAGTCGTTTAGGAACACACTAGCACAACCTCTTAGCTAGGAAGCGGACACGGGACCGCTCCCTGATGCTGTGCCCGGTGCGTAAGTTCGTTTTCCACTAGGTTCTACTACATGGTATTGACAAAGCCGGATCCCGCTCTCACGCCGAGCTCGTTGATCTTGTGATGCAAGAAATGAACCGGGACCTCTCCAGCAGTTCCGACATGAAGTTATAATAACCGCCGCTTCAGGCATATTATCCCTAGCCGTGCGCACTGTCCAGGTGGGGTTCCGAGGGGATCTACGCTTATTGATTACTCCTGGGTCAGTGTTGCAGTCAATTGAACGCACGACTAAAAGAAGGTGAGCGGATTGACTGGTCATATCACACGACGTAAATAATATCCTTTTGCACCGGGGTTCTTCATTTAGGCCAGCAATTCTCAGCAGCGAGTGACTTACGGGCTGAACGTACAGGGACCTGCCGTCCCAAGTTCAACGCATGATAAGCGCTTTCAATTG'\n",
    "quizk =7\n",
    "\n",
    "# print(ComputingFrequencies(quizText, quizk) )\n"
   ]
  },
  {
   "cell_type": "code",
   "execution_count": null,
   "metadata": {},
   "outputs": [],
   "source": []
  }
 ],
 "metadata": {
  "kernelspec": {
   "display_name": "Python 3",
   "language": "python",
   "name": "python3"
  },
  "language_info": {
   "codemirror_mode": {
    "name": "ipython",
    "version": 3
   },
   "file_extension": ".py",
   "mimetype": "text/x-python",
   "name": "python",
   "nbconvert_exporter": "python",
   "pygments_lexer": "ipython3",
   "version": "3.6.7"
  }
 },
 "nbformat": 4,
 "nbformat_minor": 2
}
